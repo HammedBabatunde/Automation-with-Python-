{
 "cells": [
  {
   "cell_type": "code",
   "execution_count": 134,
   "metadata": {},
   "outputs": [],
   "source": [
    "import pandas as pd\n",
    "import pyautogui"
   ]
  },
  {
   "cell_type": "code",
   "execution_count": null,
   "metadata": {},
   "outputs": [],
   "source": [
    "dataset = 'WA_Fn-UseC_-HR-Employee-Attrition.csv'\n",
    "\n",
    "def automate(data):\n",
    "    print(pyautogui.size())\n",
    "    print('The result is your screend resolution')\n",
    "    #pyautogui.moveTo(325,611); pyautogui.click()\n",
    "    pyautogui.press('enter')\n",
    "    pyautogui.typewrite('df = pd.read_csv(dataset)', interval=0.2)\n",
    "    pyautogui.press('enter')\n",
    "    pyautogui.typewrite('df.head()', interval=0.2)\n",
    "    pyautogui.hotkey('shift', 'enter')\n",
    "    pyautogui.press('down'); pyautogui.press('enter')\n",
    "    pyautogui.typewrite('From the head of data we can clearly identify **Attrition factor as the target/outcome variable** and rest of the factors are **predictor variables**', interval=0.01)\n",
    "    pyautogui.moveTo(544,194); pyautogui.click()\n",
    "    pyautogui.hotkey('down', 'enter'); pyautogui.moveTo(322, 612); pyautogui.click()\n",
    "    pyautogui.hotkey('shift', 'enter')\n",
    "    pyautogui.press('enter')\n",
    "    pyautogui.typewrite('#Lets look at no.of columns and information about its factors', interval=0.01)\n",
    "    pyautogui.press('enter')\n",
    "    pyautogui.typewrite('print (\"The shape of the  data is (row, column):\"+ str(df.shape))', interval=0.1); pyautogui.press('enter')\n",
    "    pyautogui.typewrite('print (df.info())', interval=0.1)\n",
    "    pyautogui.hotkey('shift', 'enter')\n",
    "    \n",
    "    \n",
    "#pyautogui.moveTo(325,611)\n",
    "pyautogui.position()"
   ]
  },
  {
   "cell_type": "code",
   "execution_count": null,
   "metadata": {},
   "outputs": [
    {
     "name": "stdout",
     "output_type": "stream",
     "text": [
      "Size(width=1366, height=768)\n",
      "The result is your screend resolution\n"
     ]
    }
   ],
   "source": [
    "dataset = 'WA_Fn-UseC_-HR-Employee-Attrition.csv'\n",
    "automate(dataset)"
   ]
  },
  {
   "cell_type": "code",
   "execution_count": null,
   "metadata": {},
   "outputs": [],
   "source": []
  },
  {
   "cell_type": "code",
   "execution_count": null,
   "metadata": {},
   "outputs": [],
   "source": []
  },
  {
   "cell_type": "code",
   "execution_count": null,
   "metadata": {},
   "outputs": [],
   "source": [
    "Df = pd.r"
   ]
  }
 ],
 "metadata": {
  "kernelspec": {
   "display_name": "Python 3",
   "language": "python",
   "name": "python3"
  },
  "language_info": {
   "codemirror_mode": {
    "name": "ipython",
    "version": 3
   },
   "file_extension": ".py",
   "mimetype": "text/x-python",
   "name": "python",
   "nbconvert_exporter": "python",
   "pygments_lexer": "ipython3",
   "version": "3.7.5"
  }
 },
 "nbformat": 4,
 "nbformat_minor": 4
}
